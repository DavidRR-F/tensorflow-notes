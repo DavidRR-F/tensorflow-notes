{
 "cells": [
  {
   "cell_type": "markdown",
   "metadata": {},
   "source": [
    "# Convolutional Neural Networks (CNN)\n",
    "| Hyperparameter/Layer type | What does it do | Typical values |\n",
    "|:-------------------------:|:---------------:|:--------------:|\n",
    "| Input Image(s) | Target images you'd like to discover patterns in | Whatever you can take a photo or video of |\n",
    "| Input Layer | Takes in target images and preprocesses theme for further layers | input_shape = [batch_size, image_height, image_width, color_channels] |\n",
    "| Convolutional layer | Extracts/learns the most important features from target images | Multiple, can create with `tf.keras.layers.ConvXD` (X can be multiple values) |\n",
    "| Hidden activation | adds non-linearity to learned features (non-straight lines) | Usually ReLU |\n",
    "| Pooling Layer | Reduces the dimensionality of learned image features | Average `tf.keras.layers.AvgPool2D` or Max `tf.keras.layers.MaxPool2D` |\n",
    "| Fully connected layer | Futher refines learned features from convolution layers | `tf.keras.layers.Dense` |\n",
    "| Output layer | Takeds learned features and outputs them in shape of target labels | output_shape = [number_of_classes] |\n",
    "| Output activation | Adds non-linearities to output layer | Binary `tf.keras.activations.sigmoid` or Non-Binary `tf.keras.activations.softmax` |\n",
    "```python\n",
    "cnn_model = tf.keras.models.Sequential([\n",
    "    tf.keras.layers.Conv2D(\n",
    "        filters=10,\n",
    "        kernel_size=3,\n",
    "        activation=\"relu\"\n",
    "        input_shape=(224, 224, 3)\n",
    "    ),\n",
    "    tf.keras.layers.Conv2D(10, 3, activation=\"relu\"),\n",
    "    tf.keraslayers.MaxPool2D(pool_size=2, padding=\"valid\"),\n",
    "    tf.keras.layers.Conv2D(10, 3, activation=\"relu\"),\n",
    "    tf.keras.layers.Conv2D(10, 3, activation=\"relu\"),\n",
    "    tf.keras.layers.MaxPool2D(2),\n",
    "    tf.keras.layers.Flatten(),\n",
    "    tf.keras.layers.Dense(1, activation=\"sigmoid\")\n",
    "])\n",
    "cnn_model.compile(\n",
    "    loss=\"binary_crossentropy\",\n",
    "    optimizer=tf.keras.optimizers.Adam(),\n",
    "    metrics=[\"accuracy\"]\n",
    ")\n",
    "history = cnn_model.fit(train_data, epochs=5)"
   ]
  },
  {
   "cell_type": "code",
   "execution_count": null,
   "metadata": {},
   "outputs": [],
   "source": [
    "import tensorflow as tf\n",
    "import numpy as np\n",
    "import pandas as pd\n",
    "from sklearn.model_selection import train_test_split\n",
    "from sklearn.compose import make_column_transformer\n",
    "from sklearn.preprocessing import OneHotEncoder, MinMaxScaler\n",
    "from sklearn.metrics import confusion_matrix\n",
    "import matplotlib.pyplot as plt\n",
    "import itertools\n",
    "plt.style.use('dark_background')"
   ]
  },
  {
   "cell_type": "code",
   "execution_count": null,
   "metadata": {},
   "outputs": [],
   "source": [
    "# Get the data\n",
    "import zipfile\n",
    "import requests\n",
    "url = 'https://storage.googleapis.com/ztm_tf_course/food_vision/10_food_classes_10_percent.zip'\n",
    "def download_zip(url, filename):\n",
    "    response = requests.get(url)\n",
    "    with open(filename, 'wb') as f:\n",
    "        f.write(response.content)\n",
    "# Example usage:\n",
    "download_zip(url, 'pizza_steak.zip')\n",
    "# Unzip the data\n",
    "zip_ref = zipfile.ZipFile(\"pizza_steak.zip\")\n",
    "zip_ref.extractall()\n",
    "zip_ref.close()"
   ]
  }
 ],
 "metadata": {
  "language_info": {
   "name": "python"
  },
  "orig_nbformat": 4
 },
 "nbformat": 4,
 "nbformat_minor": 2
}
