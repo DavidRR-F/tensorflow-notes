{
 "cells": [
  {
   "cell_type": "markdown",
   "metadata": {},
   "source": [
    "# Architecture of Neural Network Regression\n",
    "\n",
    "| Hyperparameter | Typical Value |\n",
    "|:------------------:|:--------------:|\n",
    "| <span style=\"color: lightblue;\">Input Layer shape</span> | Same shape as number of features |\n",
    "|<span style=\"color: aqua;\">Hidden Layer(s)</span>|Problem specific, minimum = 1 maximum = n|\n",
    "|<span style=\"color: lightgreen;\">Neurons per hidden layer</span>|Problem specific, generally 10,100|\n",
    "|<span style=\"color: yellow;\">Output Layer shape</span>|Same shape as desired prediction shape|\n",
    "|<span style=\"color: red;\">Hidden activation</span>|Usually ReLU (rectified linear unit)|\n",
    "|<span style=\"color: orange;\">Output activation</span>|None, ReLu, logistic/tanh|\n",
    "|<span style=\"color: pink;\">Loss function</span>|MSE(mean square error) or MAE (mean absolute error)/Huber(combination of MAE/MSE) if outliers|\n",
    "|<span style=\"color: lavender;\">Optimizer</span>|SGD(stochastic gradient descent)|\n",
    "\n",
    "model = tf.keras.Sequential\\(\\[\n",
    "    </br>\n",
    "    &emsp;<span style=\"color: lightblue;\">tf.keras.Input(shape=(3,))</span>,</br>\n",
    "    &emsp;<span style=\"color: aqua;\">tf.keras.layers.Dense(<span style=\"color: lightgreen;\">100</span>, <span style=\"color: red;\">activation=\"relu\"</span>)</span>,</br>\n",
    "    &emsp;<span style=\"color: aqua;\">tf.keras.layers.Dense(<span style=\"color: lightgreen;\">100</span>, <span style=\"color: red;\">activation=\"relu\"</span>)</span>,</br>\n",
    "    &emsp;<span style=\"color: aqua;\">tf.keras.layers.Dense(<span style=\"color: lightgreen;\">100</span>, <span style=\"color: red;\">activation=\"relu\"</span>)</span>,</br>\n",
    "    &emsp;tf.keras.layers.Dense(<span style=\"color: yellow;\">1</span>, <span style=\"color: orange;\">activation=None</span>)</br>\n",
    "\\]\\)\n",
    "\n",
    "model.compile\\(</br>\n",
    "&emsp;<span style=\"color: pink;\">loss=tf.keras.losses.mae</span>,</br>\n",
    "&emsp;<span style=\"color: lavender;\">optimizer=tf.keras.optimizers.Adam</span>(lr=0.0001),</br>\n",
    "&emsp;metrics=[\"mae\"]</br>\n",
    "\\)\n",
    "\n",
    "model.fit\\(X_train, Y_train, epochs=100\\)"
   ]
  },
  {
   "cell_type": "code",
   "execution_count": null,
   "metadata": {},
   "outputs": [],
   "source": []
  }
 ],
 "metadata": {
  "language_info": {
   "name": "python"
  },
  "orig_nbformat": 4
 },
 "nbformat": 4,
 "nbformat_minor": 2
}
