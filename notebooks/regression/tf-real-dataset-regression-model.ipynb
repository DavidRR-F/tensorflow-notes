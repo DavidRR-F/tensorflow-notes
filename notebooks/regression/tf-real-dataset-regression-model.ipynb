{
 "cells": [
  {
   "cell_type": "markdown",
   "metadata": {},
   "source": [
    "## Build a neural network regression model using this dataset \n",
    "\n",
    "| Column   | Description                                                                                                   |\n",
    "|----------|---------------------------------------------------------------------------------------------------------------|\n",
    "| age      | Age of primary beneficiary                                                                                   |\n",
    "| sex      | Insurance contractor gender: female, male                                                                    |\n",
    "| bmi      | Body mass index, providing an understanding of body weights relative to height (kg/m^2), ideally 18.5 to 24.9 |\n",
    "| children | Number of children covered by health insurance / Number of dependents                                        |\n",
    "| smoker   | Smoking                                                                                                       |\n",
    "| region   | The beneficiary's residential area in the US: northeast, southeast, southwest, northwest                   |\n",
    "| charges  | Individual medical costs billed by health insurance                                                          |\n"
   ]
  },
  {
   "cell_type": "code",
   "execution_count": 1,
   "metadata": {},
   "outputs": [],
   "source": [
    "import tensorflow as tf\n",
    "import numpy as np\n",
    "import matplotlib.pyplot as plt\n",
    "plt.style.use('dark_background')"
   ]
  },
  {
   "cell_type": "code",
   "execution_count": null,
   "metadata": {},
   "outputs": [],
   "source": []
  }
 ],
 "metadata": {
  "kernelspec": {
   "display_name": ".venv",
   "language": "python",
   "name": "python3"
  },
  "language_info": {
   "codemirror_mode": {
    "name": "ipython",
    "version": 3
   },
   "file_extension": ".py",
   "mimetype": "text/x-python",
   "name": "python",
   "nbconvert_exporter": "python",
   "pygments_lexer": "ipython3",
   "version": "3.10.5"
  },
  "orig_nbformat": 4
 },
 "nbformat": 4,
 "nbformat_minor": 2
}
